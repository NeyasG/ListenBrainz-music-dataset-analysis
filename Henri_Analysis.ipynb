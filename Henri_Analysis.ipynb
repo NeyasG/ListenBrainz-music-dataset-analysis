{
 "cells": [
  {
   "cell_type": "code",
   "execution_count": null,
   "metadata": {},
   "outputs": [],
   "source": [
    "import pandas as pd"
   ]
  },
  {
   "cell_type": "code",
   "execution_count": null,
   "metadata": {},
   "outputs": [],
   "source": [
    "#import big query\n",
    "from google.cloud import bigquery\n",
    "from google.oauth2 import service_account\n",
    "credentials = service_account.Credentials.from_service_account_file(r\"C:\\Users\\henri\\OneDrive\\Documents\\Work 2023\\Projects For Portfolio\\ListenBrainz\\ListenBrainz-music-dataset-analysis\\Keys\\midyear-courage-403912-08137d1dacfa.json\")\n",
    "project_id = \"midyear-courage-403912\"\n",
    "client = bigquery.Client(credentials=credentials,project=project_id) \n",
    "                                              "
   ]
  },
  {
   "cell_type": "code",
   "execution_count": null,
   "metadata": {},
   "outputs": [],
   "source": [
    "query_job = client.query(\"\"\"\n",
    "   SELECT *\n",
    "   FROM listenbrainz.listenbrainz.listen\n",
    "   LIMIT 1000 \"\"\")\n",
    "\n",
    "results = query_job.result().to_dataframe()\n",
    "results\n"
   ]
  },
  {
   "cell_type": "code",
   "execution_count": null,
   "metadata": {},
   "outputs": [],
   "source": [
    "# ideas for insights : top 20 artists for 2023, top users for stream tracks, most popular time of day in past 6 month."
   ]
  }
 ],
 "metadata": {
  "kernelspec": {
   "display_name": "base",
   "language": "python",
   "name": "python3"
  },
  "language_info": {
   "codemirror_mode": {
    "name": "ipython",
    "version": 3
   },
   "file_extension": ".py",
   "mimetype": "text/x-python",
   "name": "python",
   "nbconvert_exporter": "python",
   "pygments_lexer": "ipython3",
   "version": "3.10.12"
  }
 },
 "nbformat": 4,
 "nbformat_minor": 2
}
