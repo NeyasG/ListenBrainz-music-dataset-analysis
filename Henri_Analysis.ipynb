{
 "cells": [
  {
   "cell_type": "code",
   "execution_count": 1,
   "metadata": {},
   "outputs": [],
   "source": [
    "import pandas as pd"
   ]
  },
  {
   "cell_type": "code",
   "execution_count": 2,
   "metadata": {},
   "outputs": [],
   "source": [
    "#import big query\n",
    "from google.cloud import bigquery\n",
    "from google.oauth2 import service_account\n",
    "credentials = service_account.Credentials.from_service_account_file(r\"C:\\Users\\henri\\OneDrive\\Documents\\Work 2023\\Projects For Portfolio\\ListenBrainz\\ListenBrainz-music-dataset-analysis\\Keys\\midyear-courage-403912-08137d1dacfa.json\")\n",
    "project_id = \"midyear-courage-403912\"\n",
    "client = bigquery.Client(credentials=credentials,project=project_id) \n",
    "                                              "
   ]
  },
  {
   "cell_type": "code",
   "execution_count": 14,
   "metadata": {},
   "outputs": [
    {
     "data": {
      "text/html": [
       "<div>\n",
       "<style scoped>\n",
       "    .dataframe tbody tr th:only-of-type {\n",
       "        vertical-align: middle;\n",
       "    }\n",
       "\n",
       "    .dataframe tbody tr th {\n",
       "        vertical-align: top;\n",
       "    }\n",
       "\n",
       "    .dataframe thead th {\n",
       "        text-align: right;\n",
       "    }\n",
       "</style>\n",
       "<table border=\"1\" class=\"dataframe\">\n",
       "  <thead>\n",
       "    <tr style=\"text-align: right;\">\n",
       "      <th></th>\n",
       "      <th>artist_name</th>\n",
       "      <th>artist_count</th>\n",
       "    </tr>\n",
       "  </thead>\n",
       "  <tbody>\n",
       "    <tr>\n",
       "      <th>0</th>\n",
       "      <td>Radiohead</td>\n",
       "      <td>18706</td>\n",
       "    </tr>\n",
       "    <tr>\n",
       "      <th>1</th>\n",
       "      <td>Aimer</td>\n",
       "      <td>16685</td>\n",
       "    </tr>\n",
       "    <tr>\n",
       "      <th>2</th>\n",
       "      <td>The Beatles</td>\n",
       "      <td>12666</td>\n",
       "    </tr>\n",
       "    <tr>\n",
       "      <th>3</th>\n",
       "      <td>Kanye West</td>\n",
       "      <td>11740</td>\n",
       "    </tr>\n",
       "    <tr>\n",
       "      <th>4</th>\n",
       "      <td>Gorillaz</td>\n",
       "      <td>10415</td>\n",
       "    </tr>\n",
       "    <tr>\n",
       "      <th>5</th>\n",
       "      <td>Daft Punk</td>\n",
       "      <td>10252</td>\n",
       "    </tr>\n",
       "    <tr>\n",
       "      <th>6</th>\n",
       "      <td>Muse</td>\n",
       "      <td>9827</td>\n",
       "    </tr>\n",
       "    <tr>\n",
       "      <th>7</th>\n",
       "      <td>Bonobo</td>\n",
       "      <td>9396</td>\n",
       "    </tr>\n",
       "    <tr>\n",
       "      <th>8</th>\n",
       "      <td>Pink Floyd</td>\n",
       "      <td>9228</td>\n",
       "    </tr>\n",
       "    <tr>\n",
       "      <th>9</th>\n",
       "      <td>Coldplay</td>\n",
       "      <td>9221</td>\n",
       "    </tr>\n",
       "  </tbody>\n",
       "</table>\n",
       "</div>"
      ],
      "text/plain": [
       "   artist_name  artist_count\n",
       "0    Radiohead         18706\n",
       "1        Aimer         16685\n",
       "2  The Beatles         12666\n",
       "3   Kanye West         11740\n",
       "4     Gorillaz         10415\n",
       "5    Daft Punk         10252\n",
       "6         Muse          9827\n",
       "7       Bonobo          9396\n",
       "8   Pink Floyd          9228\n",
       "9     Coldplay          9221"
      ]
     },
     "execution_count": 14,
     "metadata": {},
     "output_type": "execute_result"
    }
   ],
   "source": [
    "#Find top 10 played artists in 2018(most recent year in db)\n",
    "query_job = client.query(\"\"\"\n",
    "SELECT artist_name, COUNT(*) AS artist_count\n",
    "FROM \n",
    "   (SELECT artist_name, EXTRACT(YEAR FROM listened_at) AS year_played\n",
    "    FROM listenbrainz.listenbrainz.listen)\n",
    "WHERE year_played = 2018\n",
    "GROUP BY artist_name\n",
    "ORDER BY artist_count DESC\n",
    "LIMIT 10;\n",
    "\n",
    "   \"\"\")\n",
    ";\n",
    "results = query_job.result().to_dataframe()\n",
    "results\n"
   ]
  },
  {
   "cell_type": "code",
   "execution_count": 15,
   "metadata": {},
   "outputs": [],
   "source": [
    "# ideas for insights : top 20 artists for 2023, top users for stream tracks, most popular time of day in past 6 month.\n",
    "\n",
    "#Extract hour from timestamp and then count(*) to find the most popular listening hour in the day \n",
    "SELECT EXTRACT(HOUR)"
   ]
  },
  {
   "cell_type": "code",
   "execution_count": null,
   "metadata": {},
   "outputs": [],
   "source": []
  }
 ],
 "metadata": {
  "kernelspec": {
   "display_name": "base",
   "language": "python",
   "name": "python3"
  },
  "language_info": {
   "codemirror_mode": {
    "name": "ipython",
    "version": 3
   },
   "file_extension": ".py",
   "mimetype": "text/x-python",
   "name": "python",
   "nbconvert_exporter": "python",
   "pygments_lexer": "ipython3",
   "version": "3.9.13"
  }
 },
 "nbformat": 4,
 "nbformat_minor": 2
}
